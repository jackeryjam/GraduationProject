{
 "cells": [
  {
   "cell_type": "code",
   "execution_count": 1,
   "metadata": {},
   "outputs": [],
   "source": [
    "import caffe\n",
    "import sys\n",
    "sys.path.append(\"../\")\n",
    "\n",
    "import surgery, score\n",
    "\n",
    "import numpy as np\n",
    "import os\n",
    "\n",
    "try:\n",
    "    import setproctitle\n",
    "    setproctitle.setproctitle(os.path.basename(os.getcwd()))\n",
    "except:\n",
    "    pass\n",
    "\n",
    "weights = 'resnet-18.caffemodel'\n",
    "\n",
    "# init\n",
    "caffe.set_device(int(0))\n",
    "caffe.set_mode_gpu()\n",
    "\n",
    "solver = caffe.SGDSolver('solver.prototxt')\n",
    "solver.net.copy_from(weights)\n",
    "# solver.restore('/home/zhanqianguang/GraduationProject/django/Server/FCN/linknet/snapshot/train_iter_80000.solverstate')\n",
    "\n"
   ]
  },
  {
   "cell_type": "code",
   "execution_count": null,
   "metadata": {},
   "outputs": [],
   "source": [
    "\n",
    "# surgeries\n",
    "interp_layers = [k for k in solver.net.params.keys() if 'up' in k]\n",
    "surgery.interp(solver.net, interp_layers)\n",
    "\n",
    "# scoring\n",
    "val = np.loadtxt('../data/segvalid11.txt', dtype=str)\n",
    "\n",
    "for _ in range(25):\n",
    "    solver.step(4000)\n",
    "    score.seg_tests(solver, False, val, layer='Crop5')"
   ]
  },
  {
   "cell_type": "code",
   "execution_count": null,
   "metadata": {},
   "outputs": [],
   "source": []
  }
 ],
 "metadata": {
  "kernelspec": {
   "display_name": "Python 2",
   "language": "python",
   "name": "python2"
  },
  "language_info": {
   "codemirror_mode": {
    "name": "ipython",
    "version": 2
   },
   "file_extension": ".py",
   "mimetype": "text/x-python",
   "name": "python",
   "nbconvert_exporter": "python",
   "pygments_lexer": "ipython2",
   "version": "2.7.12"
  }
 },
 "nbformat": 4,
 "nbformat_minor": 2
}
