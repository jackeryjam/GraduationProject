{
 "cells": [
  {
   "cell_type": "code",
   "execution_count": 1,
   "metadata": {},
   "outputs": [],
   "source": [
    "import caffe\n",
    "import sys\n",
    "sys.path.append(\"../\")\n",
    "\n",
    "import surgery, score\n",
    "\n",
    "import numpy as np\n",
    "import os\n",
    "\n",
    "try:\n",
    "    import setproctitle\n",
    "    setproctitle.setproctitle(os.path.basename(os.getcwd()))\n",
    "except:\n",
    "    pass\n",
    "\n",
    "weights = '/home/zhanqianguang/GraduationProject/django/Server/FCN/linknet/snapshot/train_iter_80000.caffemodel'\n",
    "\n",
    "# init\n",
    "caffe.set_device(int(0))\n",
    "caffe.set_mode_gpu()\n",
    "\n",
    "solver = caffe.SGDSolver('solver.prototxt')\n",
    "solver.net.copy_from(weights)\n",
    "solver.restore('/home/zhanqianguang/GraduationProject/django/Server/FCN/linknet/snapshot/train_iter_80000.solverstate')\n",
    "\n"
   ]
  },
  {
   "cell_type": "code",
   "execution_count": null,
   "metadata": {},
   "outputs": [
    {
     "name": "stdout",
     "output_type": "stream",
     "text": [
      ">>> 2019-04-04 22:27:57.563474 Begin seg tests\n",
      ">>> 2019-04-04 22:28:38.087087 Iteration 84000 loss 515166.9909774117\n",
      ">>> 2019-04-04 22:28:38.089211 Iteration 84000 overall accuracy 0.7285287047310005\n",
      ">>> 2019-04-04 22:28:38.090231 Iteration 84000 mean accuracy 0.047619047619047616\n",
      ">>> 2019-04-04 22:28:38.091408 Iteration 84000 mean IU 0.0346918430824286\n",
      ">>> 2019-04-04 22:28:38.092114 Iteration 84000 fwavacc 0.5307540736170293\n",
      ">>> 2019-04-04 22:36:19.961964 Begin seg tests\n",
      ">>> 2019-04-04 22:37:00.114964 Iteration 88000 loss 515166.9909774117\n",
      ">>> 2019-04-04 22:37:00.116796 Iteration 88000 overall accuracy 0.7285287047310005\n",
      ">>> 2019-04-04 22:37:00.117829 Iteration 88000 mean accuracy 0.047619047619047616\n",
      ">>> 2019-04-04 22:37:00.119368 Iteration 88000 mean IU 0.0346918430824286\n",
      ">>> 2019-04-04 22:37:00.120152 Iteration 88000 fwavacc 0.5307540736170293\n",
      ">>> 2019-04-04 22:44:41.892201 Begin seg tests\n",
      ">>> 2019-04-04 22:45:21.548785 Iteration 92000 loss 515166.9909774117\n",
      ">>> 2019-04-04 22:45:21.549302 Iteration 92000 overall accuracy 0.7285287047310005\n",
      ">>> 2019-04-04 22:45:21.549801 Iteration 92000 mean accuracy 0.047619047619047616\n",
      ">>> 2019-04-04 22:45:21.550326 Iteration 92000 mean IU 0.0346918430824286\n",
      ">>> 2019-04-04 22:45:21.551119 Iteration 92000 fwavacc 0.5307540736170293\n",
      ">>> 2019-04-04 22:53:01.862516 Begin seg tests\n",
      ">>> 2019-04-04 22:53:41.782597 Iteration 96000 loss 515166.9909774117\n",
      ">>> 2019-04-04 22:53:41.783228 Iteration 96000 overall accuracy 0.7285287047310005\n",
      ">>> 2019-04-04 22:53:41.783747 Iteration 96000 mean accuracy 0.047619047619047616\n",
      ">>> 2019-04-04 22:53:41.784368 Iteration 96000 mean IU 0.0346918430824286\n",
      ">>> 2019-04-04 22:53:41.784726 Iteration 96000 fwavacc 0.5307540736170293\n",
      ">>> 2019-04-04 23:01:22.373205 Begin seg tests\n",
      ">>> 2019-04-04 23:02:02.192402 Iteration 100000 loss 515166.9909774117\n",
      ">>> 2019-04-04 23:02:02.193442 Iteration 100000 overall accuracy 0.7285287047310005\n",
      ">>> 2019-04-04 23:02:02.193834 Iteration 100000 mean accuracy 0.047619047619047616\n",
      ">>> 2019-04-04 23:02:02.194505 Iteration 100000 mean IU 0.0346918430824286\n",
      ">>> 2019-04-04 23:02:02.195269 Iteration 100000 fwavacc 0.5307540736170293\n",
      ">>> 2019-04-04 23:09:44.646081 Begin seg tests\n",
      ">>> 2019-04-04 23:10:24.422193 Iteration 104000 loss 515166.9909774117\n",
      ">>> 2019-04-04 23:10:24.422450 Iteration 104000 overall accuracy 0.7285287047310005\n",
      ">>> 2019-04-04 23:10:24.423146 Iteration 104000 mean accuracy 0.047619047619047616\n",
      ">>> 2019-04-04 23:10:24.423725 Iteration 104000 mean IU 0.0346918430824286\n",
      ">>> 2019-04-04 23:10:24.424103 Iteration 104000 fwavacc 0.5307540736170293\n",
      ">>> 2019-04-04 23:18:06.519997 Begin seg tests\n",
      ">>> 2019-04-04 23:18:46.348690 Iteration 108000 loss 515166.9909774117\n",
      ">>> 2019-04-04 23:18:46.349473 Iteration 108000 overall accuracy 0.7285287047310005\n",
      ">>> 2019-04-04 23:18:46.349823 Iteration 108000 mean accuracy 0.047619047619047616\n",
      ">>> 2019-04-04 23:18:46.350179 Iteration 108000 mean IU 0.0346918430824286\n",
      ">>> 2019-04-04 23:18:46.350906 Iteration 108000 fwavacc 0.5307540736170293\n",
      ">>> 2019-04-04 23:26:29.100221 Begin seg tests\n",
      ">>> 2019-04-04 23:27:08.769217 Iteration 112000 loss 515166.9909774117\n",
      ">>> 2019-04-04 23:27:08.769767 Iteration 112000 overall accuracy 0.7285287047310005\n",
      ">>> 2019-04-04 23:27:08.770104 Iteration 112000 mean accuracy 0.047619047619047616\n",
      ">>> 2019-04-04 23:27:08.770620 Iteration 112000 mean IU 0.0346918430824286\n",
      ">>> 2019-04-04 23:27:08.771951 Iteration 112000 fwavacc 0.5307540736170293\n",
      ">>> 2019-04-04 23:35:09.199107 Begin seg tests\n"
     ]
    }
   ],
   "source": [
    "\n",
    "# surgeries\n",
    "interp_layers = [k for k in solver.net.params.keys() if 'up' in k]\n",
    "surgery.interp(solver.net, interp_layers)\n",
    "\n",
    "# scoring\n",
    "val = np.loadtxt('../data/segvalid11.txt', dtype=str)\n",
    "\n",
    "for _ in range(25):\n",
    "    solver.step(4000)\n",
    "    score.seg_tests(solver, False, val, layer='Crop5')"
   ]
  },
  {
   "cell_type": "code",
   "execution_count": null,
   "metadata": {},
   "outputs": [],
   "source": []
  }
 ],
 "metadata": {
  "kernelspec": {
   "display_name": "Python 2",
   "language": "python",
   "name": "python2"
  },
  "language_info": {
   "codemirror_mode": {
    "name": "ipython",
    "version": 2
   },
   "file_extension": ".py",
   "mimetype": "text/x-python",
   "name": "python",
   "nbconvert_exporter": "python",
   "pygments_lexer": "ipython2",
   "version": "2.7.12"
  }
 },
 "nbformat": 4,
 "nbformat_minor": 2
}
